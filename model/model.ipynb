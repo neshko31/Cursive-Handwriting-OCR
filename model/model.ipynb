{
 "cells": [
  {
   "cell_type": "markdown",
   "id": "917549c2",
   "metadata": {},
   "source": [
    "# Cursive Handwriting OCR"
   ]
  },
  {
   "cell_type": "code",
   "execution_count": null,
   "id": "28f235cd",
   "metadata": {},
   "outputs": [],
   "source": [
    "import numpy as np\n",
    "import cv2 # OpenCV\n",
    "import matplotlib\n",
    "import matplotlib.pyplot as plt\n",
    "import collections\n",
    "import math\n",
    "from scipy import ndimage\n",
    "# iscrtavanje slika u notebook-u\n",
    "%matplotlib inline\n",
    "# prikaz vecih slika\n",
    "matplotlib.rcParams['figure.figsize'] = 16,12\n",
    "# keras\n",
    "from tensorflow import keras\n",
    "from keras.models import Sequential\n",
    "from keras.layers import Dense, Activation\n",
    "\n",
    "from keras.optimizers import SGD"
   ]
  },
  {
   "cell_type": "code",
   "execution_count": null,
   "id": "77946836",
   "metadata": {},
   "outputs": [],
   "source": [
    "# Marija"
   ]
  },
  {
   "cell_type": "code",
   "execution_count": null,
   "id": "01263308",
   "metadata": {},
   "outputs": [],
   "source": [
    "# Nenad"
   ]
  },
  {
   "cell_type": "code",
   "execution_count": null,
   "id": "1982eac0",
   "metadata": {},
   "outputs": [],
   "source": [
    "# Marija"
   ]
  },
  {
   "cell_type": "code",
   "execution_count": null,
   "id": "8bccfa26",
   "metadata": {},
   "outputs": [],
   "source": [
    "# Nenad"
   ]
  },
  {
   "cell_type": "code",
   "execution_count": null,
   "id": "482cc71b",
   "metadata": {},
   "outputs": [],
   "source": [
    "# Marija"
   ]
  },
  {
   "cell_type": "code",
   "execution_count": null,
   "id": "06f7aa8b",
   "metadata": {},
   "outputs": [],
   "source": [
    "# Nenad"
   ]
  },
  {
   "cell_type": "code",
   "execution_count": null,
   "id": "10e9fd71",
   "metadata": {},
   "outputs": [],
   "source": [
    "# Marija"
   ]
  },
  {
   "cell_type": "code",
   "execution_count": null,
   "id": "25b6fe2e",
   "metadata": {},
   "outputs": [],
   "source": [
    "# Nenad"
   ]
  },
  {
   "cell_type": "code",
   "execution_count": null,
   "id": "50927eef",
   "metadata": {},
   "outputs": [],
   "source": [
    "# Marija"
   ]
  },
  {
   "cell_type": "code",
   "execution_count": null,
   "id": "11fe0b9b",
   "metadata": {},
   "outputs": [],
   "source": [
    "# Nenad"
   ]
  }
 ],
 "metadata": {
  "kernelspec": {
   "display_name": ".venv",
   "language": "python",
   "name": "python3"
  },
  "language_info": {
   "codemirror_mode": {
    "name": "ipython",
    "version": 3
   },
   "file_extension": ".py",
   "mimetype": "text/x-python",
   "name": "python",
   "nbconvert_exporter": "python",
   "pygments_lexer": "ipython3",
   "version": "3.11.0"
  }
 },
 "nbformat": 4,
 "nbformat_minor": 5
}
