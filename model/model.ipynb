{
 "cells": [
  {
   "cell_type": "markdown",
   "id": "917549c2",
   "metadata": {},
   "source": [
    "# Cursive Handwriting OCR"
   ]
  },
  {
   "cell_type": "code",
   "execution_count": null,
   "id": "28f235cd",
   "metadata": {},
   "outputs": [],
   "source": [
    "import numpy as np\n",
    "import cv2 # OpenCV\n",
    "import matplotlib\n",
    "import matplotlib.pyplot as plt\n",
    "import collections\n",
    "import math\n",
    "from scipy import ndimage\n",
    "# iscrtavanje slika u notebook-u\n",
    "%matplotlib inline\n",
    "# prikaz vecih slika\n",
    "matplotlib.rcParams['figure.figsize'] = 16,12\n",
    "# keras\n",
    "from tensorflow import keras\n",
    "from keras.models import Sequential\n",
    "from keras.layers import Dense, Activation\n",
    "\n",
    "from keras.optimizers import SGD"
   ]
  },
  {
   "cell_type": "code",
   "execution_count": null,
   "id": "77946836",
   "metadata": {},
   "outputs": [],
   "source": [
    "# Marija"
   ]
  },
  {
   "cell_type": "code",
   "execution_count": null,
   "id": "01263308",
   "metadata": {},
   "outputs": [],
   "source": [
    "# Nenad\n",
    "# Ćelija u kojoj se nalazi kod koji se koristi za spajanje ROI koji se nalaze na trening podacima\n",
    "\n",
    "def resize_region(region):\n",
    "    return cv2.resize(region, (36, 36), interpolation=cv2.INTER_NEAREST)\n",
    "\n",
    "def select_roi_training(image_orig, image_bin):\n",
    "    contours, hierarchy = cv2.findContours(image_bin.copy(), cv2.RETR_EXTERNAL, cv2.CHAIN_APPROX_NONE)\n",
    "    regions_array = []\n",
    "    for contour in contours:\n",
    "        x, y, w, h = cv2.boundingRect(contour)\n",
    "        region = image_bin[y:y+h+1, x:x+w+1]\n",
    "        regions_array.append([resize_region(region), (x, y, w, h)])\n",
    "\n",
    "    # Konture koje sadrze kukice\n",
    "    connected_regions = [] \n",
    "    # Prolazimo kroz niz i proveravamo da li u ostatku niza postoji neki region iznad ili ispod trenutnog i ako \n",
    "    # postoji takav region, pravimo jedan veci region oko njih i dodajemo ga\n",
    "    for region1, (x1, y1, w1, h1) in regions_array:\n",
    "        for _region2, (x2, y2, w2, h2) in regions_array:\n",
    "            # Provera da li je isti region\n",
    "            if (x1, y1, w1, h1) == (x2, y2, w2, h2):\n",
    "                continue\n",
    "            mid_x2 = x2 + w2 // 2\n",
    "\n",
    "            # Provera da li je region kvacica\n",
    "            if (y1 >= y2 or y1 <= y2) and mid_x2 >= x1 and mid_x2 <= x1 + w1:\n",
    "                x3, y3, w3, h3 = min(x1, x2), y2, max(w1, w2), h1+(y1-y2)\n",
    "                region3 = image_bin[y3:y3+h3+1, x3:x3+w3+1]\n",
    "                connected_regions.append([resize_region(region3), (x3, y3, w3, h3)])\n",
    "\n",
    "    # Sad cemo proci kroz niz regions_array i videti da li se centar tih objekata nalazi unutar \n",
    "    # nekog veceg koji je u connected_regions\n",
    "    # Filtiramo regione tako da na primer za slovo ž sad imamo 2 regiona u regions_array i 1 veci\n",
    "    # region u connected_regions\n",
    "    # Ona 2 regiona ne dodajemo u filtrirane regione dok cemo 1 veci region dodati kasnije\n",
    "    # Ako se nalazi, preskacemo taj objekat, a ako ne onda ga dodajemo u nov niz\n",
    "    filtered_regions = []\n",
    "    for region1, (x1, y1, w1, h1) in regions_array:\n",
    "        mid_x1 = x1 + w1 // 2\n",
    "        mid_y1 = y1 + h1 // 2\n",
    "        is_in = False\n",
    "        for _region2, (x2, y2, w2, h2) in connected_regions:\n",
    "            if mid_x1 >= x2 and mid_x1 <= x2 + w2 and mid_y1 >= y2 and mid_y1 <= y2 + h2:\n",
    "                is_in = True\n",
    "        if not is_in:\n",
    "            filtered_regions.append([region1, (x1, y1, w1, h1)])\n",
    "    \n",
    "    # Dodajemo i one velike regione u kojem su slova sa kukicama\n",
    "    filtered_regions += connected_regions\n",
    "\n",
    "    # Iscrtavamo sve te regione\n",
    "    for _, (x, y, w, h) in filtered_regions:\n",
    "        cv2.rectangle(image_orig, (x, y), (x + w, y + h), (255, 0, 0), 2)\n",
    "        \n",
    "    # Sortiramo niz u kojem su elementi [region, koordinate] po x koordinati\n",
    "    filtered_regions = sorted(filtered_regions, key=lambda x: x[1][0])\n",
    "    sorted_regions = [region[0] for region in filtered_regions]\n",
    "\n",
    "    return image_orig, sorted_regions"
   ]
  },
  {
   "cell_type": "code",
   "execution_count": null,
   "id": "1982eac0",
   "metadata": {},
   "outputs": [],
   "source": [
    "# Marija"
   ]
  },
  {
   "cell_type": "code",
   "execution_count": null,
   "id": "8bccfa26",
   "metadata": {},
   "outputs": [],
   "source": [
    "# Nenad"
   ]
  },
  {
   "cell_type": "code",
   "execution_count": null,
   "id": "482cc71b",
   "metadata": {},
   "outputs": [],
   "source": [
    "# Marija"
   ]
  },
  {
   "cell_type": "code",
   "execution_count": null,
   "id": "06f7aa8b",
   "metadata": {},
   "outputs": [],
   "source": [
    "# Nenad"
   ]
  },
  {
   "cell_type": "code",
   "execution_count": null,
   "id": "10e9fd71",
   "metadata": {},
   "outputs": [],
   "source": [
    "# Marija"
   ]
  },
  {
   "cell_type": "code",
   "execution_count": null,
   "id": "25b6fe2e",
   "metadata": {},
   "outputs": [],
   "source": [
    "# Nenad"
   ]
  },
  {
   "cell_type": "code",
   "execution_count": null,
   "id": "50927eef",
   "metadata": {},
   "outputs": [],
   "source": [
    "# Marija"
   ]
  },
  {
   "cell_type": "code",
   "execution_count": null,
   "id": "11fe0b9b",
   "metadata": {},
   "outputs": [],
   "source": [
    "# Nenad"
   ]
  }
 ],
 "metadata": {
  "kernelspec": {
   "display_name": ".venv",
   "language": "python",
   "name": "python3"
  },
  "language_info": {
   "codemirror_mode": {
    "name": "ipython",
    "version": 3
   },
   "file_extension": ".py",
   "mimetype": "text/x-python",
   "name": "python",
   "nbconvert_exporter": "python",
   "pygments_lexer": "ipython3",
   "version": "3.11.0"
  }
 },
 "nbformat": 4,
 "nbformat_minor": 5
}
